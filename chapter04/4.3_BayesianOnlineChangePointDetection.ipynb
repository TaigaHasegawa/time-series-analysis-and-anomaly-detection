{
 "cells": [
  {
   "cell_type": "code",
   "execution_count": 1,
   "metadata": {},
   "outputs": [],
   "source": [
    "%matplotlib inline\n",
    "import numpy as np\n",
    "np.random.seed(555)\n",
    "import matplotlib.pyplot as plt\n",
    "import pandas as pd\n",
    "import scipy.stats as stats"
   ]
  },
  {
   "cell_type": "code",
   "execution_count": 2,
   "metadata": {},
   "outputs": [],
   "source": [
    "class BayesianOnlineChangePointDetection(object):\n",
    "    T = 0  # 観測時間\n",
    "        \n",
    "    def __init__(self, hazard_func, distribution):        \n",
    "        self.beliefs = np.zeros((2,2))\n",
    "        self.beliefs[0, 0] = 1.\n",
    "        # ハザード関数と連長に関する確率密度分布は引数として与える\n",
    "        self.hazard_func = hazard_func\n",
    "        self.distribution = distribution\n",
    "        \n",
    "    def reset_params(self):\n",
    "        \"\"\"パラメタを初期状態にリセット\n",
    "        \"\"\"\n",
    "        self.T = 0\n",
    "        self.beliefs = np.zeros((2,2))\n",
    "        # 例では初期状態で連長が必ず0になるので信念の初期状態は1.0\n",
    "        self.beliefs[0, 0] = 1.\n",
    "\n",
    "    def _expand_belief_matrix(self):\n",
    "        \"\"\"観測時点数に合わせて信念行列beliefを大きくする\n",
    "        \"\"\"\n",
    "        n_row, n_col = self.beliefs.shape\n",
    "        rows = np.zeros((1, 2))\n",
    "        cols = np.zeros((n_row+1, 1))\n",
    "        self.beliefs = np.concatenate((self.beliefs, rows), axis=0)\n",
    "\n",
    "    def _shift_belief_matrix(self):\n",
    "        \"\"\"信念行列の更新\n",
    "        \"\"\"\n",
    "        current_belief = self.beliefs[:, 0]\n",
    "        self.beliefs[:, 0] = self.beliefs[:, 1]\n",
    "        self.beliefs[:, 1] = 0\n",
    "        return current_belief\n",
    "\n",
    "    def _update_beliefs(self, hazard, pred_probs):\n",
    "        \"\"\"信念（連長分布）の更新\n",
    "        \"\"\"\n",
    "        self._expand_belief_matrix()\n",
    "\n",
    "        # 連長の増加確率の計算\n",
    "        # （次の時点で連長が+1になる確率）\n",
    "        self.beliefs[1:self.T+2, 1] = \\\n",
    "            self.beliefs[:self.T+1, 0] * pred_probs * (1 - hazard)\n",
    "\n",
    "        # 変化点確率の計算\n",
    "        # （次時点で連長が0になる確率）\n",
    "        self.beliefs[0, 1] = \\\n",
    "            (self.beliefs[:self.T+1, 0] * pred_probs * hazard).sum()\n",
    "        \n",
    "        # 信念（連長分布）の正規化\n",
    "        self.beliefs[:, 1] = self.beliefs[:, 1] / self.beliefs[:, 1].sum()\n",
    "        \n",
    "    def update(self, x):\n",
    "        \"\"\"予測分布、ハザード関数、連長分布、観測時間の更新\n",
    "        \"\"\"\n",
    "        # 予測分布の評価\n",
    "        pred_probs = self.distribution.pdf(x)\n",
    "\n",
    "        # ハザード関数の評価\n",
    "        hazard = self.hazard_func(np.arange(self.T+1))\n",
    "    \n",
    "        # 連長分布,信念の更新\n",
    "        self._update_beliefs(hazard, pred_probs)\n",
    "        \n",
    "        # 十分統計量（ここではハイパーパラメタと同義）の更新\n",
    "        self.distribution.update_params(x)\n",
    "\n",
    "        # 信念が最大のindexを取得（最も可能性の高い連長を取得）\n",
    "        max_belief_idx = \\\n",
    "            np.where(self.beliefs[:, 0]==self.beliefs[:, 0].max())[0]\n",
    "        # 現在の信念の取得\n",
    "        current_belief = self._shift_belief_matrix()\n",
    "    \n",
    "        self.T += 1\n",
    "        return max_belief_idx, current_belief"
   ]
  },
  {
   "cell_type": "code",
   "execution_count": 3,
   "metadata": {},
   "outputs": [],
   "source": [
    "class StudentT(object):\n",
    "    def __init__(self, mu0=0, kappa0=1, alpha0=1, beta0=1):\n",
    "        \"\"\"パラメタの初期化\n",
    "        \"\"\"\n",
    "        self.mu0    = np.array([mu0])\n",
    "        self.kappa0 = np.array([kappa0])\n",
    "        self.alpha0 = np.array([alpha0])\n",
    "        self.beta0  = np.array([beta0])\n",
    "        self.reset_params()\n",
    "    \n",
    "    def reset_params(self):\n",
    "        \"\"\"パラメタを初期状態にリセット\n",
    "        \"\"\"\n",
    "        self.muT    = self.mu0.copy()\n",
    "        self.kappaT = self.kappa0.copy()\n",
    "        self.alphaT = self.alpha0.copy()\n",
    "        self.betaT  = self.beta0.copy()\n",
    "        \n",
    "    def pdf(self, x):\n",
    "        \"\"\"確率密度関数\n",
    "        確率密度分布のある点(x)における確率を返す\n",
    "        \"\"\"\n",
    "        return stats.t.pdf(\n",
    "            x,\n",
    "            loc=self.muT,\n",
    "            df=2 * self.alphaT,\n",
    "            scale=np.sqrt(self.betaT * (self.kappaT + 1) / (self.alphaT * self.kappaT)),\n",
    "        )\n",
    "        \n",
    "    def update_params(self, x):\n",
    "        \"\"\"パラメタ（十分統計量）の更新\n",
    "        それぞれのパラメタベクトルは観測点分のベクトルとなる\n",
    "        \"\"\"\n",
    "        self.betaT = np.concatenate(\n",
    "            [self.beta0, \n",
    "             (self.kappaT\n",
    "              + (self.kappaT * (x - self.muT)**2) / (2 * (self.kappaT + 1)))\n",
    "            ])\n",
    "        self.muT = np.concatenate(\n",
    "            [self.mu0, (self.kappaT * self.muT + x) / (self.kappaT + 1) ])\n",
    "        self.kappaT = np.concatenate([self.kappa0, self.kappaT + 1 ])\n",
    "        self.alphaT = np.concatenate([self.alpha0, self.alphaT + 0.5 ])"
   ]
  },
  {
   "cell_type": "code",
   "execution_count": 4,
   "metadata": {},
   "outputs": [],
   "source": [
    "def constant_hazard(r, _lambda):\n",
    "    \"\"\"ハザード関数\n",
    "    予測分布が指数関数の場合は観測時点のみに依存\n",
    "    1/_lambda\n",
    "    \n",
    "    Args:\n",
    "      r: 観測時間(np.ndarray or scalar)\n",
    "      _lambda: ハイパーパラメタ(float)\n",
    "    Returns:\n",
    "      p: 変化点である確率(np.ndarray with shape = r.shape)\n",
    "    \"\"\"\n",
    "    if isinstance(r, np.ndarray):\n",
    "        shape = r.shape\n",
    "    else:\n",
    "        shape = 1\n",
    "\n",
    "    # 変化点確率の計算\n",
    "    probability = np.ones(shape) / _lambda\n",
    "    return probability"
   ]
  },
  {
   "cell_type": "code",
   "execution_count": 27,
   "metadata": {},
   "outputs": [
    {
     "data": {
      "text/plain": [
       "[<matplotlib.lines.Line2D at 0x127aea4a8>]"
      ]
     },
     "execution_count": 27,
     "metadata": {},
     "output_type": "execute_result"
    },
    {
     "data": {
      "image/png": "[encoded data removed]",
      "text/plain": [
       "<Figure size 432x288 with 1 Axes>"
      ]
     },
     "metadata": {
      "needs_background": "light"
     },
     "output_type": "display_data"
    }
   ],
   "source": [
    "test_signal = np.concatenate(\n",
    "    [np.random.normal(0.7, 0.05, 300), \n",
    "     np.random.normal(1.5, 0.05, 300),\n",
    "     np.random.normal(0.6, 0.05, 300),\n",
    "     np.random.normal(1.3, 0.05, 300)])\n",
    "plt.plot(test_signal)"
   ]
  },
  {
   "cell_type": "code",
   "execution_count": 28,
   "metadata": {},
   "outputs": [],
   "source": [
    "# ハザード関数\n",
    "hazard_func = lambda r: constant_hazard(r, _lambda=300)\n",
    "# 確率密度関数としてスチューデントのT分布を用いる\n",
    "distribution = StudentT()"
   ]
  },
  {
   "cell_type": "code",
   "execution_count": 29,
   "metadata": {
    "scrolled": true
   },
   "outputs": [],
   "source": [
    "# 予測分布の確率密度関数の初期化\n",
    "distribution.reset_params()\n",
    "\n",
    "bcp = BayesianOnlineChangePointDetection(hazard_func, distribution)\n",
    "bcp.reset_params()\n",
    "\n",
    "maxes = np.empty(test_signal.shape)\n",
    "beliefs = []\n",
    "# 例では連長の初期状態が必ず0になり、信念は1.0になることがわかっているため\n",
    "# 信念の初期状態を格納しておく\n",
    "beliefs.append(bcp.beliefs[:,0])\n",
    "\n",
    "# 推定連長と信念の計算\n",
    "for i, d in enumerate(test_signal):\n",
    "    maxes[i], current_belief = bcp.update(d)\n",
    "    beliefs.append(current_belief)"
   ]
  },
  {
   "cell_type": "code",
   "execution_count": 30,
   "metadata": {},
   "outputs": [
    {
     "data": {
      "text/plain": [
       "(1201,)"
      ]
     },
     "execution_count": 30,
     "metadata": {},
     "output_type": "execute_result"
    }
   ],
   "source": [
    "np.array(beliefs).shape"
   ]
  },
  {
   "cell_type": "code",
   "execution_count": 14,
   "metadata": {},
   "outputs": [],
   "source": [
    "max_len = beliefs[-1].shape[0]\n",
    "belief_matrix = np.zeros((max_len-1, max_len-1))\n",
    "\n",
    "for i, belief in enumerate(beliefs):\n",
    "    belief_matrix[:i+1, i] = belief[:-1]"
   ]
  },
  {
   "cell_type": "code",
   "execution_count": 15,
   "metadata": {},
   "outputs": [
    {
     "name": "stderr",
     "output_type": "stream",
     "text": [
      "/Users/hasegawataiga/Desktop/venv/lib/python3.6/site-packages/ipykernel_launcher.py:4: RuntimeWarning: divide by zero encountered in log\n",
      "  after removing the cwd from sys.path.\n"
     ]
    },
    {
     "data": {
      "text/plain": [
       "<matplotlib.collections.PathCollection at 0x125999c18>"
      ]
     },
     "execution_count": 15,
     "metadata": {},
     "output_type": "execute_result"
    },
    {
     "data": {
      "image/png": "[encoded data removed]",
      "text/plain": [
       "<Figure size 432x288 with 2 Axes>"
      ]
     },
     "metadata": {
      "needs_background": "light"
     },
     "output_type": "display_data"
    }
   ],
   "source": [
    "fig, ax = plt.subplots(nrows = 2, sharex = True)\n",
    "\n",
    "ax[0].plot(test_signal, alpha=0.5, label=\"observation\")\n",
    "ax[1].imshow(-np.log(belief_matrix), interpolation='none', aspect='auto',\n",
    "               origin='lower', cmap=plt.cm.Blues, label=\"belief\")\n",
    "ax[1].plot(maxes, '--', color='r', label=\"run length\")\n",
    "ax[1].set_xlim([0, len(test_signal)])\n",
    "ax[1].set_ylim([0, ax[1].get_ylim()[1]])\n",
    "ax[0].grid()\n",
    "ax[1].grid()\n",
    "index_changes = np.where(np.diff(maxes)<0)[0]\n",
    "ax[0].scatter(index_changes, test_signal[index_changes], c='green', label=\"change point\")"
   ]
  },
  {
   "cell_type": "code",
   "execution_count": 21,
   "metadata": {},
   "outputs": [],
   "source": [
    "test_signal = np.array([0,0,0,2,3,100,100,115,112,117,120,115,125,140,5,4,0])"
   ]
  },
  {
   "cell_type": "code",
   "execution_count": 22,
   "metadata": {},
   "outputs": [],
   "source": [
    "hazard_func = lambda r: constant_hazard(r, _lambda=50)\n",
    "distribution = StudentT()"
   ]
  },
  {
   "cell_type": "code",
   "execution_count": 23,
   "metadata": {},
   "outputs": [],
   "source": [
    "distribution.reset_params()\n",
    "\n",
    "bcp = BayesianOnlineChangePointDetection(hazard_func, distribution)\n",
    "bcp.reset_params()\n",
    "\n",
    "maxes = np.empty(test_signal.shape)\n",
    "beliefs = []\n",
    "beliefs.append(bcp.beliefs[:,0])\n",
    "for i, d in enumerate(test_signal):\n",
    "    maxes[i], current_belief = bcp.update(d)\n",
    "    beliefs.append(current_belief)"
   ]
  },
  {
   "cell_type": "code",
   "execution_count": 24,
   "metadata": {},
   "outputs": [],
   "source": [
    "max_len = beliefs[-1].shape[0]\n",
    "belief_matrix = np.zeros((max_len-1, max_len-1))\n",
    "\n",
    "for i, belief in enumerate(beliefs):\n",
    "    belief_matrix[:i+1, i] = belief[:-1]"
   ]
  },
  {
   "cell_type": "code",
   "execution_count": 25,
   "metadata": {},
   "outputs": [
    {
     "name": "stderr",
     "output_type": "stream",
     "text": [
      "/Users/hasegawataiga/Desktop/venv/lib/python3.6/site-packages/ipykernel_launcher.py:4: RuntimeWarning: divide by zero encountered in log\n",
      "  after removing the cwd from sys.path.\n"
     ]
    },
    {
     "data": {
      "text/plain": [
       "<matplotlib.collections.PathCollection at 0x12616acc0>"
      ]
     },
     "execution_count": 25,
     "metadata": {},
     "output_type": "execute_result"
    },
    {
     "data": {
      "image/png": "[encoded data removed]",
      "text/plain": [
       "<Figure size 432x288 with 2 Axes>"
      ]
     },
     "metadata": {
      "needs_background": "light"
     },
     "output_type": "display_data"
    }
   ],
   "source": [
    "fig, ax = plt.subplots(nrows = 2, sharex = True)\n",
    "\n",
    "ax[0].plot(test_signal, alpha=0.5, label=\"observation\")\n",
    "ax[1].imshow(-np.log(belief_matrix), interpolation='none', aspect='auto',\n",
    "               origin='lower', cmap=plt.cm.Blues, label=\"belief\")\n",
    "ax[1].plot(maxes, '--', color='r', label=\"run length\")\n",
    "ax[1].set_xlim([0, len(test_signal)])\n",
    "ax[1].set_ylim([0, ax[1].get_ylim()[1]])\n",
    "ax[0].grid()\n",
    "ax[1].grid()\n",
    "index_changes = np.where(np.diff(maxes)<0)[0]\n",
    "ax[0].scatter(index_changes, test_signal[index_changes], c='green', label=\"change point\")"
   ]
  },
  {
   "cell_type": "code",
   "execution_count": null,
   "metadata": {
    "collapsed": true
   },
   "outputs": [],
   "source": []
  }
 ],
 "metadata": {
  "kernelspec": {
   "display_name": "Python 3",
   "language": "python",
   "name": "python3"
  },
  "language_info": {
   "codemirror_mode": {
    "name": "ipython",
    "version": 3
   },
   "file_extension": ".py",
   "mimetype": "text/x-python",
   "name": "python",
   "nbconvert_exporter": "python",
   "pygments_lexer": "ipython3",
   "version": "3.6.8"
  }
 },
 "nbformat": 4,
 "nbformat_minor": 2
}
